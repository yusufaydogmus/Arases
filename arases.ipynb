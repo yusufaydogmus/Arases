{
 "cells": [
  {
   "cell_type": "code",
   "execution_count": 2,
   "id": "cde33af1-e7c9-4289-bbe7-d6262682f62a",
   "metadata": {},
   "outputs": [
    {
     "name": "stdout",
     "output_type": "stream",
     "text": [
      "k-r çifti için: ['kar', 'ker', 'kır', 'kir', 'kor', 'kör', 'kur', 'kür']\n",
      "s-n çifti için: ['san', 'sen', 'sın', 'sin', 'son', 'sön', 'sun', 'sün']\n",
      "s-r çifti için: ['sar', 'ser', 'sır', 'sir', 'sor', 'sör', 'sur', 'sür']\n",
      "t-r çifti için: ['tar', 'ter', 'tır', 'tir', 'tor', 'tör', 'tur', 'tür']\n"
     ]
    }
   ],
   "source": [
    "import itertools\n",
    "\n",
    "# Türkçe sessiz ve ünlü harfler\n",
    "unsuzler = list(\"bcçdfgğhjklmnprsştvyz\")\n",
    "unluler = ['a', 'e', 'ı', 'i', 'o', 'ö', 'u', 'ü']\n",
    "\n",
    "# Türkçe anlamlı kelime listesi (örnek)\n",
    "with open(\"tdk_kelime_listesi.txt\", \"r\", encoding=\"utf-8\") as f:\n",
    "    tdk_kelimeler = set(line.strip().lower() for line in f)\n",
    "\n",
    "# Sonuçları tutacak liste\n",
    "tam_uyumlu_ciftler = []\n",
    "\n",
    "# Tüm sessiz harf çiftlerini dene\n",
    "for h1, h2 in itertools.product(unsuzler, repeat=2):\n",
    "    kelimeler = [h1 + unlu + h2 for unlu in unluler]\n",
    "    if all(kelime in tdk_kelimeler for kelime in kelimeler):\n",
    "        tam_uyumlu_ciftler.append((h1, h2, kelimeler))\n",
    "\n",
    "# Sonuçları yazdır\n",
    "for h1, h2, kelime_listesi in tam_uyumlu_ciftler:\n",
    "    print(f\"{h1}-{h2} çifti için: {kelime_listesi}\")\n"
   ]
  },
  {
   "cell_type": "code",
   "execution_count": null,
   "id": "99b7fccb-8f06-44a3-91d8-f739faf1a2b0",
   "metadata": {},
   "outputs": [],
   "source": []
  }
 ],
 "metadata": {
  "kernelspec": {
   "display_name": "Python [conda env:base] *",
   "language": "python",
   "name": "conda-base-py"
  },
  "language_info": {
   "codemirror_mode": {
    "name": "ipython",
    "version": 3
   },
   "file_extension": ".py",
   "mimetype": "text/x-python",
   "name": "python",
   "nbconvert_exporter": "python",
   "pygments_lexer": "ipython3",
   "version": "3.12.7"
  }
 },
 "nbformat": 4,
 "nbformat_minor": 5
}
